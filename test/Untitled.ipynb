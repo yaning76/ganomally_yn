{
 "cells": [
  {
   "cell_type": "code",
   "execution_count": null,
   "id": "romance-fluid",
   "metadata": {},
   "outputs": [],
   "source": [
    "import numpy as np\n",
    "import matplotlib.pyplot as plt\n",
    "import cv2\n"
   ]
  },
  {
   "cell_type": "code",
   "execution_count": 8,
   "id": "atmospheric-hearing",
   "metadata": {},
   "outputs": [
    {
     "name": "stdout",
     "output_type": "stream",
     "text": [
      "0\n",
      "0\n",
      "11\n",
      "0\n",
      "1\n",
      "10\n",
      "0\n",
      "2\n",
      "9\n",
      "0\n",
      "3\n",
      "8\n",
      "0\n",
      "4\n",
      "7\n",
      "0\n",
      "5\n",
      "6\n",
      "0\n",
      "6\n",
      "5\n",
      "0\n",
      "7\n",
      "4\n",
      "0\n",
      "8\n",
      "3\n",
      "0\n",
      "9\n",
      "2\n",
      "0\n",
      "10\n",
      "1\n",
      "1\n",
      "0\n",
      "10\n",
      "1\n",
      "1\n",
      "9\n",
      "1\n",
      "2\n",
      "8\n",
      "1\n",
      "3\n",
      "7\n",
      "1\n",
      "4\n",
      "6\n",
      "1\n",
      "5\n",
      "5\n",
      "1\n",
      "6\n",
      "4\n",
      "1\n",
      "7\n",
      "3\n",
      "1\n",
      "8\n",
      "2\n",
      "1\n",
      "9\n",
      "1\n",
      "2\n",
      "0\n",
      "9\n",
      "2\n",
      "1\n",
      "8\n",
      "2\n",
      "2\n",
      "7\n",
      "2\n",
      "3\n",
      "6\n",
      "2\n",
      "4\n",
      "5\n",
      "2\n",
      "5\n",
      "4\n",
      "2\n",
      "6\n",
      "3\n",
      "2\n",
      "7\n",
      "2\n",
      "2\n",
      "8\n",
      "1\n",
      "3\n",
      "0\n",
      "8\n",
      "3\n",
      "1\n",
      "7\n",
      "3\n",
      "2\n",
      "6\n",
      "3\n",
      "3\n",
      "5\n",
      "3\n",
      "4\n",
      "4\n",
      "3\n",
      "5\n",
      "3\n",
      "3\n",
      "6\n",
      "2\n",
      "3\n",
      "7\n",
      "1\n",
      "4\n",
      "0\n",
      "7\n",
      "4\n",
      "1\n",
      "6\n",
      "4\n",
      "2\n",
      "5\n",
      "4\n",
      "3\n",
      "4\n",
      "4\n",
      "4\n",
      "3\n",
      "4\n",
      "5\n",
      "2\n",
      "4\n",
      "6\n",
      "1\n",
      "5\n",
      "0\n",
      "6\n",
      "5\n",
      "1\n",
      "5\n",
      "5\n",
      "2\n",
      "4\n",
      "5\n",
      "3\n",
      "3\n",
      "5\n",
      "4\n",
      "2\n",
      "5\n",
      "5\n",
      "1\n",
      "6\n",
      "0\n",
      "5\n",
      "6\n",
      "1\n",
      "4\n",
      "6\n",
      "2\n",
      "3\n",
      "6\n",
      "3\n",
      "2\n",
      "6\n",
      "4\n",
      "1\n",
      "7\n",
      "0\n",
      "4\n",
      "7\n",
      "1\n",
      "3\n",
      "7\n",
      "2\n",
      "2\n",
      "7\n",
      "3\n",
      "1\n",
      "8\n",
      "0\n",
      "3\n",
      "8\n",
      "1\n",
      "2\n",
      "8\n",
      "2\n",
      "1\n",
      "9\n",
      "0\n",
      "2\n",
      "9\n",
      "1\n",
      "1\n",
      "10\n",
      "0\n",
      "1\n"
     ]
    }
   ],
   "source": [
    "t=[]\n",
    "for j in range(0,11):\n",
    "        for z in range(11-j):\n",
    "            k=(11-(j+z))\n",
    "            print(j)\n",
    "            print(z)\n",
    "            print(k)\n",
    "\n",
    "            t.append(1) "
   ]
  },
  {
   "cell_type": "code",
   "execution_count": 9,
   "id": "industrial-construction",
   "metadata": {},
   "outputs": [
    {
     "data": {
      "text/plain": [
       "66"
      ]
     },
     "execution_count": 9,
     "metadata": {},
     "output_type": "execute_result"
    }
   ],
   "source": [
    "len(t)"
   ]
  },
  {
   "cell_type": "code",
   "execution_count": 10,
   "id": "superior-portable",
   "metadata": {},
   "outputs": [],
   "source": [
    "l=[(1,2),(3,4)]"
   ]
  },
  {
   "cell_type": "code",
   "execution_count": 11,
   "id": "scientific-alpha",
   "metadata": {},
   "outputs": [
    {
     "data": {
      "text/plain": [
       "(3, 4)"
      ]
     },
     "execution_count": 11,
     "metadata": {},
     "output_type": "execute_result"
    }
   ],
   "source": [
    "l[1]"
   ]
  },
  {
   "cell_type": "code",
   "execution_count": 12,
   "id": "spoken-porter",
   "metadata": {},
   "outputs": [
    {
     "data": {
      "text/plain": [
       "4"
      ]
     },
     "execution_count": 12,
     "metadata": {},
     "output_type": "execute_result"
    }
   ],
   "source": [
    "l[1][1]"
   ]
  },
  {
   "cell_type": "code",
   "execution_count": null,
   "id": "improved-vacuum",
   "metadata": {},
   "outputs": [],
   "source": []
  }
 ],
 "metadata": {
  "kernelspec": {
   "display_name": "Python 3",
   "language": "python",
   "name": "python3"
  },
  "language_info": {
   "codemirror_mode": {
    "name": "ipython",
    "version": 3
   },
   "file_extension": ".py",
   "mimetype": "text/x-python",
   "name": "python",
   "nbconvert_exporter": "python",
   "pygments_lexer": "ipython3",
   "version": "3.7.3"
  }
 },
 "nbformat": 4,
 "nbformat_minor": 5
}
