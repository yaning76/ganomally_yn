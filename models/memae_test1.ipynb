{
 "cells": [
  {
   "cell_type": "code",
   "execution_count": 1,
   "id": "aware-momentum",
   "metadata": {},
   "outputs": [],
   "source": [
    "from __future__ import absolute_import, print_function\n",
    "import torch\n",
    "from torch import nn\n",
    "import math\n",
    "from torch.nn.parameter import Parameter\n",
    "from torch.nn import functional as F\n",
    "import numpy as np\n"
   ]
  },
  {
   "cell_type": "code",
   "execution_count": 32,
   "id": "thrown-thermal",
   "metadata": {},
   "outputs": [],
   "source": [
    "#最终版\n",
    "class MemModule1_new(nn.Module):\n",
    "    def __init__(self,mem_dim,fea_dim,window=1,shrink_thres=0.0025, device='cuda'):\n",
    "        super(MemModule1_new, self).__init__()\n",
    "        self.mem_dim = mem_dim\n",
    "        self.fea_dim = fea_dim\n",
    "        self.shrink_thres = shrink_thres\n",
    "        self.memory = MemoryUnit(self.mem_dim, self.fea_dim, self.shrink_thres)\n",
    "        self.window=window\n",
    "\n",
    "    def forward(self, x):\n",
    "        s = x.data.shape\n",
    "        window_size=s[2]//self.window\n",
    "        if self.window!=1:\n",
    "            \n",
    "            x = x.view(s[0],s[1],self.window,window_size,self.window,window_size)\n",
    "            print(x.shape)\n",
    "            x=x.permute(0, 1, 2, 4,3,5).contiguous().view(-1, window_size*window_size)\n",
    "            print(x.shape)\n",
    "            y_and = self.memory(x)\n",
    "            y = y_and['output']\n",
    "            att = y_and['att']\n",
    "            print(y.shape)\n",
    "            y = y.view(s[0],s[1],self.window,self.window,window_size,window_size)\n",
    "            print(y.shape)\n",
    "            y=y.permute(0, 1, 2, 4,3,5).contiguous().view(s[0], s[1], s[2], s[3])\n",
    "            print(y.shape)\n",
    "            att = att.view(s[0],s[1],self.window,self.window,self.mem_dim)\n",
    "            att = att.permute(0, 4, 1, 2, 3)\n",
    "        else:\n",
    "            x = x.view(s[0]*s[1],-1)\n",
    "            print(x.shape)\n",
    "            y_and = self.memory(x)\n",
    "            y = y_and['output']\n",
    "            att = y_and['att']\n",
    "            print(att.shape)\n",
    "    \n",
    "            y = y.view(s[0],s[1],s[2],s[3])\n",
    "            \n",
    "            att = att.view(s[0],s[1],self.mem_dim)\n",
    "            att = att.permute(0, 2,1)\n",
    "            print(att.shape)\n",
    "            \n",
    "            \n",
    "    #         att = att.view(s[0]* s[1],self.window, self.window, self.mem_dim)\n",
    "        return {'output': y, 'att': att}\n"
   ]
  },
  {
   "cell_type": "code",
   "execution_count": 33,
   "id": "disabled-vector",
   "metadata": {},
   "outputs": [
    {
     "name": "stdout",
     "output_type": "stream",
     "text": [
      "torch.Size([2, 256, 2, 16, 2, 16])\n",
      "torch.Size([2048, 256])\n",
      "torch.Size([2048, 256])\n",
      "torch.Size([2, 256, 2, 2, 16, 16])\n",
      "torch.Size([2, 256, 32, 32])\n"
     ]
    }
   ],
   "source": [
    "# window 窗口比例 fea_dim=w/window*h/window\n",
    "model1=MemModule1_new(mem_dim=2000, fea_dim=256,window=2)\n",
    "x1=torch.rand((2,256,32,32))\n",
    "out1=model1(x1)"
   ]
  },
  {
   "cell_type": "code",
   "execution_count": 34,
   "id": "minute-exercise",
   "metadata": {},
   "outputs": [
    {
     "name": "stdout",
     "output_type": "stream",
     "text": [
      "torch.Size([512, 1024])\n",
      "torch.Size([512, 2000])\n",
      "torch.Size([2, 2000, 256])\n"
     ]
    }
   ],
   "source": [
    "model1=MemModule1_new(mem_dim=2000, fea_dim=1024)\n",
    "x1=torch.rand((2,256,32,32))\n",
    "out1=model1(x1)"
   ]
  },
  {
   "cell_type": "code",
   "execution_count": 11,
   "id": "artificial-construction",
   "metadata": {},
   "outputs": [
    {
     "data": {
      "text/plain": [
       "torch.Size([2, 256, 32, 32])"
      ]
     },
     "execution_count": 11,
     "metadata": {},
     "output_type": "execute_result"
    }
   ],
   "source": [
    "out1['output'].shape"
   ]
  },
  {
   "cell_type": "code",
   "execution_count": 37,
   "id": "perfect-signal",
   "metadata": {},
   "outputs": [],
   "source": [
    "def window_partition(x, window_size):\n",
    "    B, H, W, C = x.shape\n",
    "    x = x.view(B, H // window_size, window_size, W // window_size, window_size, C)\n",
    "#     print(x.shape)\n",
    "    windows = x.permute(0, 1, 3, 2, 4, 5).contiguous().view(-1, window_size, window_size, C)\n",
    "#     print(windows.shape)\n",
    "    return windows\n",
    "\n",
    "\n",
    "def window_reverse(windows, window_size, H, W):\n",
    "    B = int(windows.shape[0] / (H * W / window_size / window_size))\n",
    "    x = windows.view(B, H // window_size, W // window_size, window_size, window_size, -1)\n",
    "    x = x.permute(0, 1, 3, 2, 4, 5).contiguous().view(B, H, W, -1)\n",
    "    return x\n"
   ]
  },
  {
   "cell_type": "code",
   "execution_count": 62,
   "id": "noticed-chosen",
   "metadata": {},
   "outputs": [],
   "source": [
    "x=torch.rand((2,32,32,128))\n",
    "windows=window_partition(x,2)\n",
    "y=window_reverse(windows,2,32,32)"
   ]
  },
  {
   "cell_type": "code",
   "execution_count": null,
   "id": "amateur-technology",
   "metadata": {},
   "outputs": [],
   "source": []
  },
  {
   "cell_type": "code",
   "execution_count": 38,
   "id": "smoking-progress",
   "metadata": {},
   "outputs": [],
   "source": [
    "def window_partition_c(x, window_size,c_size):\n",
    "    B, H, W, C = x.shape\n",
    "    x = x.view(B, H // window_size, window_size, W // window_size, window_size, C//c_size,c_size)\n",
    "    windows = x.permute(0, 1, 3,5, 2, 4, 6).contiguous().view(-1, window_size, window_size, c_size)\n",
    "    return windows\n",
    "\n",
    "\n",
    "def window_reverse_c(windows, window_size,c_size,B, H, W,C):\n",
    "    x = windows.view(B, H // window_size, W // window_size, C // c_size, window_size, window_size,  c_size)\n",
    "    x = x.permute(0, 1, 4, 2, 5, 3,6).contiguous().view(B, H, W, C)\n",
    "    return x"
   ]
  },
  {
   "cell_type": "code",
   "execution_count": 37,
   "id": "italian-publicity",
   "metadata": {},
   "outputs": [],
   "source": [
    "x=torch.rand((2,32,32,128))\n",
    "windows=window_partition_c(x,2,8)\n",
    "windows=window_reverse_c(windows, 2,8,2, 32,32,128)"
   ]
  },
  {
   "cell_type": "code",
   "execution_count": 38,
   "id": "continuing-festival",
   "metadata": {},
   "outputs": [
    {
     "data": {
      "text/plain": [
       "torch.Size([2, 32, 32, 128])"
      ]
     },
     "execution_count": 38,
     "metadata": {},
     "output_type": "execute_result"
    }
   ],
   "source": [
    "windows.shape"
   ]
  },
  {
   "cell_type": "code",
   "execution_count": null,
   "id": "opponent-error",
   "metadata": {},
   "outputs": [],
   "source": []
  },
  {
   "cell_type": "code",
   "execution_count": 12,
   "id": "incoming-atmosphere",
   "metadata": {},
   "outputs": [
    {
     "data": {
      "text/plain": [
       "torch.Size([128, 64, 64, 3])"
      ]
     },
     "execution_count": 12,
     "metadata": {},
     "output_type": "execute_result"
    }
   ],
   "source": [
    "windows.shape"
   ]
  },
  {
   "cell_type": "code",
   "execution_count": 13,
   "id": "minimal-country",
   "metadata": {},
   "outputs": [
    {
     "data": {
      "text/plain": [
       "torch.Size([2, 32, 32, 256])"
      ]
     },
     "execution_count": 13,
     "metadata": {},
     "output_type": "execute_result"
    }
   ],
   "source": [
    "y.shape"
   ]
  },
  {
   "cell_type": "code",
   "execution_count": 44,
   "id": "protected-catholic",
   "metadata": {},
   "outputs": [],
   "source": [
    "#终版\n",
    "class MemModule_window(nn.Module):\n",
    "    def __init__(self, mem_dim, fea_dim,window,c_num, shrink_thres=0.0025, device='cuda'):\n",
    "        super(MemModule_window, self).__init__()\n",
    "        self.mem_dim = mem_dim\n",
    "        self.fea_dim = fea_dim\n",
    "        self.shrink_thres = shrink_thres\n",
    "        self.memory = MemoryUnit(self.mem_dim, self.fea_dim, self.shrink_thres)\n",
    "        self.window=window\n",
    "        self.c_num=c_num\n",
    "    def forward(self, input):\n",
    "        s = input.data.shape\n",
    "        x = input.permute(0, 2, 3, 1).contiguous()\n",
    "        c_size=s[1]//self.c_num\n",
    "        if self.c_num==1:\n",
    "            x=window_partition(x,self.window)\n",
    "            num_window=(s[2]//self.window)*(s[3]//self.window)\n",
    "            x=x.view(s[0]*num_window,-1)\n",
    "\n",
    "            y_and = self.memory(x)\n",
    "            y = y_and['output']\n",
    "            att = y_and['att']\n",
    "            y = window_reverse(y,self.window,s[2],s[3])\n",
    "            y = y.permute(0, 3, 1, 2)\n",
    "            print(att.shape)\n",
    "            att=att.view(s[0], s[2]//self.window, s[3]//self.window, self.mem_dim).permute(0, 3, 1, 2)\n",
    "            print(att.shape)\n",
    "            return {'output': y, 'att': att}\n",
    "        else:\n",
    "            x=window_partition_c(x,self.window,c_size)\n",
    "            num_window=(s[2]//self.window)*(s[3]//self.window)*self.c_num\n",
    "            x=x.view(s[0]*num_window,-1)\n",
    "\n",
    "            y_and = self.memory(x)\n",
    "            y = y_and['output']\n",
    "            att = y_and['att']\n",
    "            y = window_reverse_c(y,self.window,c_size,s[0],s[2],s[3],s[1])#windows, window_size,c_size,B, H, W,C\n",
    "            y = y.permute(0, 3, 1, 2)\n",
    "            att=att.view(s[0], s[2]//self.window, s[3]//self.window,self.c_num, self.mem_dim).permute(0,4,1,2,3)\n",
    "            print(att.shape)\n",
    "            \n",
    "            return {'output': y, 'att': att}\n"
   ]
  },
  {
   "cell_type": "code",
   "execution_count": 46,
   "id": "terminal-architect",
   "metadata": {},
   "outputs": [
    {
     "name": "stdout",
     "output_type": "stream",
     "text": [
      "torch.Size([2, 2000, 16, 16, 2])\n"
     ]
    }
   ],
   "source": [
    "# window 窗口大小 c_num，通道比例 fea_dim=c*w*w/c_num\n",
    "\n",
    "model1=MemModule_window(mem_dim=2000, fea_dim=512,window=2,c_num=2)\n",
    "x1=torch.rand((2,256,32,32))\n",
    "out1=model1(x1)"
   ]
  },
  {
   "cell_type": "code",
   "execution_count": 74,
   "id": "amino-arkansas",
   "metadata": {},
   "outputs": [
    {
     "data": {
      "text/plain": [
       "(torch.Size([2, 256, 32, 32]), torch.Size([8192, 2000]))"
      ]
     },
     "execution_count": 74,
     "metadata": {},
     "output_type": "execute_result"
    }
   ],
   "source": [
    "out1['output'].shape,out1['att'].shape"
   ]
  },
  {
   "cell_type": "code",
   "execution_count": 73,
   "id": "surface-trademark",
   "metadata": {},
   "outputs": [],
   "source": [
    "model1=MemModule_window(mem_dim=2000, fea_dim=64,window=2,c_num=16)\n",
    "x1=torch.rand((2,256,32,32))\n",
    "out1=model1(x1)"
   ]
  },
  {
   "cell_type": "code",
   "execution_count": 41,
   "id": "unavailable-olive",
   "metadata": {},
   "outputs": [
    {
     "ename": "AttributeError",
     "evalue": "'dict' object has no attribute 'shape'",
     "output_type": "error",
     "traceback": [
      "\u001b[0;31m---------------------------------------------------------------------------\u001b[0m",
      "\u001b[0;31mAttributeError\u001b[0m                            Traceback (most recent call last)",
      "\u001b[0;32m<ipython-input-41-c2369eb3aa93>\u001b[0m in \u001b[0;36m<module>\u001b[0;34m\u001b[0m\n\u001b[0;32m----> 1\u001b[0;31m \u001b[0mout1\u001b[0m\u001b[0;34m.\u001b[0m\u001b[0mshape\u001b[0m\u001b[0;34m\u001b[0m\u001b[0;34m\u001b[0m\u001b[0m\n\u001b[0m",
      "\u001b[0;31mAttributeError\u001b[0m: 'dict' object has no attribute 'shape'"
     ]
    }
   ],
   "source": [
    "out1.shape"
   ]
  },
  {
   "cell_type": "code",
   "execution_count": null,
   "id": "written-optics",
   "metadata": {},
   "outputs": [],
   "source": []
  },
  {
   "cell_type": "code",
   "execution_count": 18,
   "id": "selected-south",
   "metadata": {},
   "outputs": [],
   "source": [
    "class MemModule_ori(nn.Module):\n",
    "    def __init__(self, mem_dim, fea_dim, shrink_thres=0.0025, device='cuda'):\n",
    "        super(MemModule_ori, self).__init__()\n",
    "        self.mem_dim = mem_dim\n",
    "        self.fea_dim = fea_dim\n",
    "        self.shrink_thres = shrink_thres\n",
    "        self.memory = MemoryUnit(self.mem_dim, self.fea_dim, self.shrink_thres)\n",
    "\n",
    "    def forward(self, input):\n",
    "        s = input.data.shape\n",
    "        x = input.permute(0, 2, 3, 1).contiguous()\n",
    "        print(x.shape)\n",
    "        x = x.view(-1, s[1])\n",
    "        print(x.shape)\n",
    "        #\n",
    "        y_and = self.memory(x)\n",
    "        \n",
    "        #\n",
    "        y = y_and['output']\n",
    "        print('y',y.shape)\n",
    "        att = y_and['att']\n",
    "        print('att',att.shape)\n",
    "        \n",
    "        y = y.view(s[0], s[2], s[3], s[1])\n",
    "#         print( y.shape)\n",
    "        y = y.permute(0, 3, 1, 2)\n",
    "#         print( y.shape)\n",
    "        att = att.view(s[0], s[2], s[3], self.mem_dim)\n",
    "#         print( att.shape)\n",
    "        att = att.permute(0, 3, 1, 2)\n",
    "#         print( att.shape)\n",
    "\n",
    "        return {'output': y, 'att': att}\n",
    "\n"
   ]
  },
  {
   "cell_type": "code",
   "execution_count": 19,
   "id": "superior-florence",
   "metadata": {},
   "outputs": [
    {
     "name": "stdout",
     "output_type": "stream",
     "text": [
      "torch.Size([2, 32, 32, 256])\n",
      "torch.Size([2048, 256])\n",
      "y torch.Size([2048, 256])\n",
      "att torch.Size([2048, 2000])\n"
     ]
    }
   ],
   "source": [
    "model0=MemModule_ori(mem_dim=2000, fea_dim=256)\n",
    "x0=torch.rand((2,256,32,32))\n",
    "out0=model0(x0)"
   ]
  },
  {
   "cell_type": "code",
   "execution_count": null,
   "id": "optimum-appraisal",
   "metadata": {},
   "outputs": [],
   "source": []
  },
  {
   "cell_type": "code",
   "execution_count": 4,
   "id": "potential-swing",
   "metadata": {},
   "outputs": [],
   "source": [
    "def hard_shrink_relu(input, lambd=0, epsilon=1e-12):\n",
    "    output = (F.relu(input-lambd) * input) / (torch.abs(input - lambd) + epsilon)\n",
    "    return output\n",
    "\n",
    "\n",
    "class MemoryUnit(nn.Module):\n",
    "    def __init__(self, mem_dim, fea_dim, shrink_thres=0.0025):\n",
    "        super(MemoryUnit, self).__init__()\n",
    "        self.mem_dim = mem_dim\n",
    "        self.fea_dim = fea_dim\n",
    "        self.weight = Parameter(torch.Tensor(self.mem_dim, self.fea_dim))  # M x C\n",
    "        self.bias = None\n",
    "        self.shrink_thres= shrink_thres\n",
    "        # self.hard_sparse_shrink_opt = nn.Hardshrink(lambd=shrink_thres)\n",
    "\n",
    "        self.reset_parameters()\n",
    "\n",
    "    def reset_parameters(self):\n",
    "        stdv = 1. / math.sqrt(self.weight.size(1))\n",
    "        self.weight.data.uniform_(-stdv, stdv)\n",
    "        if self.bias is not None:\n",
    "            self.bias.data.uniform_(-stdv, stdv)\n",
    "\n",
    "    def forward(self, input):\n",
    "        att_weight = F.linear(input, self.weight)  # Fea x Mem^T, (TxC) x (CxM) = TxM\n",
    "        att_weight = F.softmax(att_weight, dim=1)  # TxM\n",
    "        # ReLU based shrinkage, hard shrinkage for positive value\n",
    "        if(self.shrink_thres>0):\n",
    "            att_weight = hard_shrink_relu(att_weight, lambd=self.shrink_thres)\n",
    "#             att_weight = F.softshrink(att_weight, lambd=self.shrink_thres)\n",
    "            # normalize???\n",
    "            att_weight = F.normalize(att_weight, p=1, dim=1)\n",
    "            # att_weight = F.softmax(att_weight, dim=1)\n",
    "            # att_weight = self.hard_sparse_shrink_opt(att_weight)\n",
    "        mem_trans = self.weight.permute(1, 0)  # Mem^T, MxC\n",
    "        output = F.linear(att_weight, mem_trans)  # AttWeight x Mem^T^T = AW x Mem, (TxM) x (MxC) = TxC\n",
    "        return {'output': output, 'att': att_weight}  # output, att_weight\n",
    "\n",
    "    def extra_repr(self):\n",
    "        return 'mem_dim={}, fea_dim={}'.format(\n",
    "            self.mem_dim, self.fea_dim is not None\n",
    "        )"
   ]
  },
  {
   "cell_type": "code",
   "execution_count": null,
   "id": "grateful-assets",
   "metadata": {},
   "outputs": [],
   "source": []
  }
 ],
 "metadata": {
  "kernelspec": {
   "display_name": "Python 3",
   "language": "python",
   "name": "python3"
  },
  "language_info": {
   "codemirror_mode": {
    "name": "ipython",
    "version": 3
   },
   "file_extension": ".py",
   "mimetype": "text/x-python",
   "name": "python",
   "nbconvert_exporter": "python",
   "pygments_lexer": "ipython3",
   "version": "3.7.3"
  }
 },
 "nbformat": 4,
 "nbformat_minor": 5
}
