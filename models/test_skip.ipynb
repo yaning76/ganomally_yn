{
 "cells": [
  {
   "cell_type": "code",
   "execution_count": 6,
   "id": "angry-holmes",
   "metadata": {},
   "outputs": [],
   "source": [
    "import torch.nn as nn\n",
    "import torch\n",
    "from torchsummary import summary"
   ]
  },
  {
   "cell_type": "code",
   "execution_count": 8,
   "id": "marine-hunter",
   "metadata": {},
   "outputs": [],
   "source": [
    "class NetG(nn.Module):\n",
    "    \"\"\"\n",
    "    GENERATOR NETWORK\n",
    "    \"\"\"\n",
    "\n",
    "    def __init__(self, opt):\n",
    "        super(NetG, self).__init__()\n",
    "        ngf = 64\n",
    "        self.e1 = nn.Sequential(\n",
    "            nn.Conv2d(opt.nc, ngf, 4, 2, 1, bias=False),            # 32*32\n",
    "        )\n",
    "        self.e2 = nn.Sequential(\n",
    "            nn.LeakyReLU(0.2, inplace=True),\n",
    "            nn.Conv2d(ngf, ngf << 1, 4, 2, 1, bias=False),          # 16*16\n",
    "            nn.BatchNorm2d(ngf << 1),       # 128\n",
    "        )\n",
    "        self.e3 = nn.Sequential(\n",
    "            nn.LeakyReLU(0.2, inplace=True),\n",
    "            nn.Conv2d(ngf << 1, ngf << 2, 4, 2, 1, bias=False),     # 8*8\n",
    "            nn.BatchNorm2d(ngf << 2),       # 256\n",
    "        )\n",
    "        self.e4 = nn.Sequential(\n",
    "            nn.LeakyReLU(0.2, inplace=True),\n",
    "            nn.Conv2d(ngf << 2, ngf << 3, 4, 2, 1, bias=False),     # 4*4\n",
    "            nn.BatchNorm2d(ngf << 3),       # 512\n",
    "        )\n",
    "        self.e5 = nn.Sequential(\n",
    "            nn.LeakyReLU(0.2, inplace=True),\n",
    "            nn.Conv2d(ngf << 3, ngf << 3, 4, 2, 1, bias=False),     # 4*4\n",
    "            nn.BatchNorm2d(ngf << 3),       # 512\n",
    "        )\n",
    "        self.e6 = nn.Sequential(\n",
    "            nn.LeakyReLU(0.2, inplace=True),\n",
    "            nn.Conv2d(ngf << 3, ngf << 3, 4, 2, 1, bias=False),     # 4*4\n",
    "            nn.BatchNorm2d(ngf << 3),       # 512\n",
    "        )\n",
    "        self.e7 = nn.Sequential(\n",
    "            nn.LeakyReLU(0.2, inplace=True),\n",
    "            nn.Conv2d(ngf << 3, ngf << 3, 4, 2, 1, bias=False),     # 4*4\n",
    "            nn.ReLU(True),      # 512\n",
    "            nn.ConvTranspose2d(ngf << 3, ngf << 3, 4, 2, 1, bias=False),\n",
    "            nn.BatchNorm2d(ngf << 3),  \n",
    "        )\n",
    "        \n",
    "        \n",
    "        self.d6 = nn.Sequential(\n",
    "            nn.ReLU(True),\n",
    "            nn.ConvTranspose2d(ngf << 4, ngf << 3, 4, 2, 1, bias=False),\n",
    "            nn.BatchNorm2d(ngf << 3),\n",
    "        )\n",
    "        self.d5 = nn.Sequential(\n",
    "            nn.ReLU(True),\n",
    "            nn.ConvTranspose2d(ngf << 4, ngf << 3, 4, 2, 1, bias=False),\n",
    "            nn.BatchNorm2d(ngf << 3),\n",
    "        )\n",
    "        self.d4 = nn.Sequential(\n",
    "            nn.ReLU(True),\n",
    "            nn.ConvTranspose2d(ngf << 4, ngf << 2, 4, 2, 1, bias=False),\n",
    "            nn.BatchNorm2d(ngf << 2),\n",
    "        )\n",
    "        self.d3 = nn.Sequential(\n",
    "            nn.ReLU(True),\n",
    "            nn.ConvTranspose2d(ngf << 3, ngf << 1, 4, 2, 1, bias=False),\n",
    "            nn.BatchNorm2d(ngf << 1),\n",
    "        )\n",
    "        self.d2 = nn.Sequential(\n",
    "            nn.ReLU(True),\n",
    "            nn.ConvTranspose2d(ngf << 2, ngf, 4, 2, 1, bias=False),\n",
    "            nn.BatchNorm2d(ngf),\n",
    "        )\n",
    "        self.d1 = nn.Sequential(\n",
    "            nn.ConvTranspose2d(ngf<< 1, opt.nc, 4, 2, 1, bias=False),\n",
    "            nn.Tanh(),\n",
    "        )\n",
    "\n",
    "    def forward(self, x):\n",
    "        e1_out = self.e1(x)\n",
    "        e2_out = self.e2(e1_out)\n",
    "        e3_out = self.e3(e2_out)\n",
    "        e4_out = self.e4(e3_out)\n",
    "        e5_out = self.e5(e4_out)\n",
    "        e6_out = self.e6(e5_out)\n",
    "        e7_out = self.e7(e6_out)\n",
    "        \n",
    "        d6_out = self.d6(torch.cat([e7_out, e6_out], dim=1))\n",
    "        d5_out = self.d5(torch.cat([e5_out, d6_out], dim=1))\n",
    "        d4_out = self.d4(torch.cat([e4_out, d5_out], dim=1))\n",
    "        d3_out = self.d3(torch.cat([e3_out, d4_out], dim=1))\n",
    "        d2_out = self.d2(torch.cat([e2_out, d3_out], dim=1))\n",
    "        d1_out = self.d1(torch.cat([e1_out, d2_out], dim=1))\n",
    "        \n",
    "        return d1_out"
   ]
  },
  {
   "cell_type": "code",
   "execution_count": 9,
   "id": "engaged-description",
   "metadata": {},
   "outputs": [],
   "source": [
    "import time\n",
    "model=NetG()\n",
    "# start = time.time()\n",
    "input=torch.rand((1,3,128,128))\n",
    "# end = time.time()\n",
    "out=model(input)\n",
    "# print((end-start)*1000)"
   ]
  },
  {
   "cell_type": "code",
   "execution_count": 10,
   "id": "lightweight-repair",
   "metadata": {},
   "outputs": [
    {
     "data": {
      "text/plain": [
       "torch.Size([1, 3, 128, 128])"
      ]
     },
     "execution_count": 10,
     "metadata": {},
     "output_type": "execute_result"
    }
   ],
   "source": [
    "out.shape\n"
   ]
  },
  {
   "cell_type": "code",
   "execution_count": 18,
   "id": "rising-vienna",
   "metadata": {},
   "outputs": [],
   "source": [
    "class NetD(nn.Module):\n",
    "    def __init__(self):\n",
    "        super(NetD, self).__init__()\n",
    "        ngf = 64\n",
    "        self.model = nn.Sequential(\n",
    "            nn.Conv2d(3, ngf, 4, 2, 1, bias=False),\n",
    "\n",
    "            nn.LeakyReLU(0.2, inplace=True),\n",
    "            nn.Conv2d(ngf, ngf << 1, 4, 2, 1, bias=False),\n",
    "            nn.BatchNorm2d(ngf << 1),       # 128\n",
    "\n",
    "            nn.LeakyReLU(0.2, inplace=True),\n",
    "            nn.Conv2d(ngf << 1, ngf << 2, 4, 2, 1, bias=False),\n",
    "            nn.BatchNorm2d(ngf << 2),       # 256\n",
    "\n",
    "            nn.LeakyReLU(0.2, inplace=True),\n",
    "            nn.Conv2d(ngf << 2, ngf << 3, 4, 2, 1, bias=False),\n",
    "            nn.BatchNorm2d(ngf << 3),       # 512\n",
    "\n",
    "            nn.LeakyReLU(0.2, inplace=True),\n",
    "            nn.Conv2d(ngf << 3, ngf << 4, 4, 2, 1, bias=False),       # 512\n",
    "            nn.BatchNorm2d(ngf << 4),       # 100\n",
    "            \n",
    "            nn.LeakyReLU(0.2, inplace=True),\n",
    "            nn.Conv2d(ngf << 4, 100, 4, 1, 0, bias=False),       # 512   # 100\n",
    "        )\n",
    "\n",
    "        self.classify = nn.Sequential(\n",
    "            nn.Conv2d(100, 1, 3, 1, 1, bias=False),       # 512\n",
    "            nn.Sigmoid(),\n",
    "        )\n",
    "\n",
    "\n",
    "    def forward(self, x):\n",
    "        feature = self.model(x)\n",
    "        classification = self.classify(feature)\n",
    "        return classification.view(-1, 1).squeeze(1), feature\n"
   ]
  },
  {
   "cell_type": "code",
   "execution_count": 19,
   "id": "voluntary-green",
   "metadata": {},
   "outputs": [],
   "source": [
    "import time\n",
    "model1=NetD()\n",
    "# start = time.time()\n",
    "input1=torch.rand((1,3,128,128))\n",
    "# end = time.time()\n",
    "out1,out2=model1(input1)\n",
    "# print((end-start)*1000)"
   ]
  },
  {
   "cell_type": "code",
   "execution_count": 20,
   "id": "german-lithuania",
   "metadata": {},
   "outputs": [
    {
     "data": {
      "text/plain": [
       "(torch.Size([1]), torch.Size([1, 100, 1, 1]))"
      ]
     },
     "execution_count": 20,
     "metadata": {},
     "output_type": "execute_result"
    }
   ],
   "source": [
    "out1.shape,out2.shape"
   ]
  },
  {
   "cell_type": "code",
   "execution_count": null,
   "id": "premier-application",
   "metadata": {},
   "outputs": [],
   "source": []
  }
 ],
 "metadata": {
  "kernelspec": {
   "display_name": "Python 3",
   "language": "python",
   "name": "python3"
  },
  "language_info": {
   "codemirror_mode": {
    "name": "ipython",
    "version": 3
   },
   "file_extension": ".py",
   "mimetype": "text/x-python",
   "name": "python",
   "nbconvert_exporter": "python",
   "pygments_lexer": "ipython3",
   "version": "3.7.3"
  }
 },
 "nbformat": 4,
 "nbformat_minor": 5
}
